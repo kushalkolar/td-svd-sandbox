{
 "cells": [
  {
   "cell_type": "code",
   "execution_count": 1,
   "id": "caa46f5a-bda9-4afe-906a-0a3c6f615759",
   "metadata": {},
   "outputs": [
    {
     "name": "stdout",
     "output_type": "stream",
     "text": [
      "using: <jupyter_rfb._jpg.SimpleJpegEncoder object at 0x7f7f3b2ac290>\n"
     ]
    }
   ],
   "source": [
    "import tifffile\n",
    "import numpy as np\n",
    "import fastplotlib as fpl\n",
    "from matplotlib import pyplot as plt"
   ]
  },
  {
   "cell_type": "raw",
   "id": "caff9e13-8c03-41a7-9e42-fdd7c1a0aa4b",
   "metadata": {},
   "source": [
    "%gui qt"
   ]
  },
  {
   "cell_type": "code",
   "execution_count": 2,
   "id": "56014e03-df61-4e1a-86f0-fff3ffaaef1c",
   "metadata": {},
   "outputs": [],
   "source": [
    "frame = tifffile.imread(\"/home/kushal/lab/datasets/adam_cohen/1/230938PP071_cre_30x_P17_Cell1_D4.tiff\")\n",
    "movie = np.memmap(\"/home/kushal/Downloads/frames.bin\", dtype=np.uint16)\n",
    "\n",
    "xdim, ydim = frame.shape\n",
    "nframes = movie.size / (xdim * ydim)\n",
    "assert nframes.is_integer()\n",
    "nframes = int(nframes)\n",
    "\n",
    "border_trim = 10\n",
    "\n",
    "movie = movie.reshape(nframes, xdim, ydim)[:9_000, border_trim:-border_trim, border_trim:-border_trim]\n",
    "xdim = movie.shape[1]\n",
    "ydim = movie.shape[2]"
   ]
  },
  {
   "cell_type": "code",
   "execution_count": 3,
   "id": "f719deab-a65a-4751-b060-27b5969dde3e",
   "metadata": {},
   "outputs": [],
   "source": [
    "movie_mean = movie.mean(axis=0)"
   ]
  },
  {
   "cell_type": "code",
   "execution_count": 4,
   "id": "3c5d15eb-de6a-4045-abdd-14f5fc44528a",
   "metadata": {},
   "outputs": [
    {
     "data": {
      "application/vnd.jupyter.widget-view+json": {
       "model_id": "1bbc5f908a7e42fa80f4e3e3d3694b6e",
       "version_major": 2,
       "version_minor": 0
      },
      "text/plain": [
       "RFBOutputContext()"
      ]
     },
     "metadata": {},
     "output_type": "display_data"
    },
    {
     "name": "stderr",
     "output_type": "stream",
     "text": [
      "/home/kushal/repos/fastplotlib/fastplotlib/graphics/_features/_base.py:34: UserWarning: converting float64 array to float32\n",
      "  warn(f\"converting {array.dtype} array to float32\")\n"
     ]
    },
    {
     "data": {
      "application/vnd.jupyter.widget-view+json": {
       "model_id": "c025444063ae4ca6b77d042a07402e28",
       "version_major": 2,
       "version_minor": 0
      },
      "text/plain": [
       "JupyterOutputContext(children=(JupyterWgpuCanvas(), IpywidgetToolBar(children=(Button(icon='expand-arrows-alt'…"
      ]
     },
     "execution_count": 4,
     "metadata": {},
     "output_type": "execute_result"
    }
   ],
   "source": [
    "iw = fpl.ImageWidget(\n",
    "    movie, \n",
    "    cmap=\"gnuplot2\",\n",
    "    frame_apply={0: lambda f: f - movie_mean},\n",
    ")\n",
    "iw.show()"
   ]
  },
  {
   "cell_type": "code",
   "execution_count": 5,
   "id": "a038d488-7958-4826-a2cd-23044b07357a",
   "metadata": {},
   "outputs": [
    {
     "data": {
      "text/plain": [
       "<function __main__.<lambda>(ev)>"
      ]
     },
     "execution_count": 5,
     "metadata": {},
     "output_type": "execute_result"
    }
   ],
   "source": [
    "iw.managed_graphics[0].world_object.add_event_handler(lambda ev: print(ev.pick_info), \"click\")"
   ]
  },
  {
   "cell_type": "code",
   "execution_count": 6,
   "id": "3ae45822-1cd0-42b1-880e-aeb800054046",
   "metadata": {},
   "outputs": [],
   "source": [
    "iw.frame_apply = {0: lambda f: f - movie_mean}"
   ]
  },
  {
   "cell_type": "code",
   "execution_count": 7,
   "id": "7855334c-a496-4267-a087-2a5b2485eebe",
   "metadata": {},
   "outputs": [],
   "source": [
    "iw.cmap = \"gnuplot2_r\""
   ]
  },
  {
   "cell_type": "code",
   "execution_count": 8,
   "id": "3f920851-3c8e-4c74-a63f-8d311ee2a520",
   "metadata": {},
   "outputs": [],
   "source": [
    "from scipy.sparse.linalg import svds"
   ]
  },
  {
   "cell_type": "code",
   "execution_count": 9,
   "id": "db2aa97a-85ab-49f9-ba1d-0c0ae0424181",
   "metadata": {},
   "outputs": [],
   "source": [
    "start_ix, stop_ix = 200, 1200"
   ]
  },
  {
   "cell_type": "code",
   "execution_count": 10,
   "id": "ddf1e6c8-7a59-4dee-9827-4cc1c455a568",
   "metadata": {},
   "outputs": [],
   "source": [
    "snippet = movie[start_ix:stop_ix] - movie_mean"
   ]
  },
  {
   "cell_type": "code",
   "execution_count": 11,
   "id": "018c072e-ae13-4bbe-81b2-2be3b324e159",
   "metadata": {},
   "outputs": [
    {
     "data": {
      "text/plain": [
       "(1000, 164, 884)"
      ]
     },
     "execution_count": 11,
     "metadata": {},
     "output_type": "execute_result"
    }
   ],
   "source": [
    "snippet.shape"
   ]
  },
  {
   "cell_type": "code",
   "execution_count": 12,
   "id": "a487b1a7-f304-40f4-8e2d-3d1316c907ff",
   "metadata": {},
   "outputs": [],
   "source": [
    "delay = 1"
   ]
  },
  {
   "cell_type": "code",
   "execution_count": 13,
   "id": "0d7c0394-f31d-4cfc-81ea-d0ca12ceb18d",
   "metadata": {},
   "outputs": [],
   "source": [
    "n_pixels = xdim * ydim\n",
    "n_steps = 10"
   ]
  },
  {
   "cell_type": "code",
   "execution_count": 14,
   "id": "5727899c-f111-459c-8818-c2ed13995a2f",
   "metadata": {},
   "outputs": [],
   "source": [
    "n_timepoints = snippet.shape[0]"
   ]
  },
  {
   "cell_type": "code",
   "execution_count": 15,
   "id": "24695221-c4b1-44fa-aed4-e0b6d15dd68b",
   "metadata": {},
   "outputs": [
    {
     "data": {
      "text/plain": [
       "(1449760, 1000)"
      ]
     },
     "execution_count": 15,
     "metadata": {},
     "output_type": "execute_result"
    }
   ],
   "source": [
    "A = np.zeros((n_pixels * n_steps, n_timepoints))\n",
    "A.shape"
   ]
  },
  {
   "cell_type": "raw",
   "id": "74d447ac-984d-46ea-8d73-a561194e5728",
   "metadata": {},
   "source": [
    "t = 0\n",
    "A[::n_steps, t] = np.roll(snippet[t].ravel(), shift=delay * t)"
   ]
  },
  {
   "cell_type": "raw",
   "id": "75526e6c-b7bb-44ef-95ef-811e97761c59",
   "metadata": {},
   "source": [
    "for t in tqdm(range(n_timepoints)):\n",
    "    for step in range(n_steps):\n",
    "        A[::n_steps + step, t] = np.roll(snippet[t].ravel(), shift=delay * t)\n",
    "\n",
    "# for i in range(A.shape[0]):\n",
    "#     A[i] = np.roll(A[0][:A.shape[0]], shift=delay * i)"
   ]
  },
  {
   "cell_type": "code",
   "execution_count": 16,
   "id": "9413aec1-85d1-4747-9b24-5b06279632ce",
   "metadata": {},
   "outputs": [],
   "source": [
    "from itertools import product\n",
    "from tqdm import tqdm"
   ]
  },
  {
   "cell_type": "code",
   "execution_count": 17,
   "id": "ca6c363b-8e27-4d35-900c-33bd7b2ffdf4",
   "metadata": {},
   "outputs": [
    {
     "name": "stderr",
     "output_type": "stream",
     "text": [
      "100%|███████████████████████████████████████████████████████████████████████████████████| 144976/144976 [00:13<00:00, 10749.89it/s]\n"
     ]
    }
   ],
   "source": [
    "for pixel_ix, (x, y) in tqdm(enumerate(product(range(xdim), range(ydim))), total=n_pixels):\n",
    "    for step in range(n_steps):\n",
    "        # A[(n_steps * pixel_ix) + step] = (n_steps * pixel_ix) + step\n",
    "        A[(n_steps * pixel_ix) + step] = np.roll(snippet[:, x, y], shift=delay * step)"
   ]
  },
  {
   "cell_type": "raw",
   "id": "d9b59484-079f-452f-9561-8b6ef9fa6060",
   "metadata": {},
   "source": [
    "# sanity check to make sure that pixel_ix and step are increasing correctly\n",
    "np.unique(np.diff(A[:, 0]))"
   ]
  },
  {
   "cell_type": "code",
   "execution_count": 18,
   "id": "da4e030d-ba1f-4130-b748-7e9278efc8e9",
   "metadata": {},
   "outputs": [
    {
     "data": {
      "application/vnd.jupyter.widget-view+json": {
       "model_id": "b1d0d9ee7d6f416380f3e84f86a07b29",
       "version_major": 2,
       "version_minor": 0
      },
      "text/plain": [
       "RFBOutputContext()"
      ]
     },
     "metadata": {},
     "output_type": "display_data"
    },
    {
     "name": "stderr",
     "output_type": "stream",
     "text": [
      "/home/kushal/repos/fastplotlib/fastplotlib/graphics/_features/_base.py:34: UserWarning: converting float64 array to float32\n",
      "  warn(f\"converting {array.dtype} array to float32\")\n"
     ]
    },
    {
     "data": {
      "application/vnd.jupyter.widget-view+json": {
       "model_id": "903e3382b0004a4789a31398c0e23a67",
       "version_major": 2,
       "version_minor": 0
      },
      "text/plain": [
       "JupyterOutputContext(children=(JupyterWgpuCanvas(), IpywidgetToolBar(children=(Button(icon='expand-arrows-alt'…"
      ]
     },
     "execution_count": 18,
     "metadata": {},
     "output_type": "execute_result"
    }
   ],
   "source": [
    "plot = fpl.Plot()\n",
    "\n",
    "plot.add_heatmap(A[30000:35000])\n",
    "\n",
    "plot.show()"
   ]
  },
  {
   "cell_type": "code",
   "execution_count": 19,
   "id": "40abc36c-7dc9-4249-ad4b-aa3536695119",
   "metadata": {},
   "outputs": [],
   "source": [
    "k = 10"
   ]
  },
  {
   "cell_type": "code",
   "execution_count": 20,
   "id": "cef5247a-e6fa-4a31-bec7-e1eefc7a2c8f",
   "metadata": {},
   "outputs": [],
   "source": [
    "u, s, v = svds(A, k=k)"
   ]
  },
  {
   "cell_type": "code",
   "execution_count": 21,
   "id": "65475b8b-d0dc-4f4d-a9c8-a2fa92d17581",
   "metadata": {},
   "outputs": [],
   "source": [
    "u = u[:, ::-1]\n",
    "s = s[::-1]\n",
    "v = v[::-1, :]"
   ]
  },
  {
   "cell_type": "code",
   "execution_count": 22,
   "id": "f8c21a36-7291-473e-af4d-0700011051b3",
   "metadata": {},
   "outputs": [
    {
     "data": {
      "text/plain": [
       "((1449760, 10), (10,), (10, 1000))"
      ]
     },
     "execution_count": 22,
     "metadata": {},
     "output_type": "execute_result"
    }
   ],
   "source": [
    "u.shape, s.shape, v.shape"
   ]
  },
  {
   "cell_type": "code",
   "execution_count": 30,
   "id": "b0a91a06-29d4-463a-aeaa-2cfc2d6acb6c",
   "metadata": {},
   "outputs": [
    {
     "data": {
      "image/png": "[encoded data removed]",
      "text/plain": [
       "<Figure size 640x480 with 1 Axes>"
      ]
     },
     "metadata": {},
     "output_type": "display_data"
    }
   ],
   "source": [
    "plt.scatter(x=np.arange(s.size)[2:], y=s[2:])\n",
    "plt.yscale(\"log\")"
   ]
  },
  {
   "cell_type": "code",
   "execution_count": 24,
   "id": "85873758-40a5-4693-8c85-ebaaf2e917e8",
   "metadata": {},
   "outputs": [
    {
     "data": {
      "text/plain": [
       "(1449760, 10)"
      ]
     },
     "execution_count": 24,
     "metadata": {},
     "output_type": "execute_result"
    }
   ],
   "source": [
    "u.shape"
   ]
  },
  {
   "cell_type": "code",
   "execution_count": 25,
   "id": "b5b86b34-a7ff-4d56-899a-c1448a1ce1af",
   "metadata": {},
   "outputs": [
    {
     "data": {
      "text/plain": [
       "(164, 884, 10, 10)"
      ]
     },
     "execution_count": 25,
     "metadata": {},
     "output_type": "execute_result"
    }
   ],
   "source": [
    "u.reshape((xdim, ydim, k, n_steps)).shape"
   ]
  },
  {
   "cell_type": "code",
   "execution_count": 28,
   "id": "271f0f13-07e2-47c1-a4df-19b9c7e95718",
   "metadata": {},
   "outputs": [
    {
     "data": {
      "application/vnd.jupyter.widget-view+json": {
       "model_id": "ae50c93b2e60459882d43bfbb1292bea",
       "version_major": 2,
       "version_minor": 0
      },
      "text/plain": [
       "RFBOutputContext()"
      ]
     },
     "metadata": {},
     "output_type": "display_data"
    },
    {
     "data": {
      "application/vnd.jupyter.widget-view+json": {
       "model_id": "892c1f29f4fb4f82a13d0f7358b8194e",
       "version_major": 2,
       "version_minor": 0
      },
      "text/plain": [
       "JupyterOutputContext(children=(JupyterWgpuCanvas(), IpywidgetToolBar(children=(Button(icon='expand-arrows-alt'…"
      ]
     },
     "execution_count": 28,
     "metadata": {},
     "output_type": "execute_result"
    }
   ],
   "source": [
    "iw = fpl.ImageWidget(\n",
    "    data=[u.reshape((xdim, ydim, n_steps, k))[..., i].transpose(2, 0, 1) for i in range(k)],\n",
    "    names=[f\"s-{i}\" for i in range(k)]\n",
    ")\n",
    "iw.show()"
   ]
  },
  {
   "cell_type": "code",
   "execution_count": 29,
   "id": "443ed5f6-e2d1-48fc-bf91-d926b5038161",
   "metadata": {},
   "outputs": [],
   "source": [
    "iw.cmap = \"gnuplot2\""
   ]
  },
  {
   "cell_type": "code",
   "execution_count": 77,
   "id": "24a5beb9-8045-4635-9f6a-6f5cee2f4b10",
   "metadata": {},
   "outputs": [
    {
     "data": {
      "application/vnd.jupyter.widget-view+json": {
       "model_id": "6a92e48aadfe4ef481b4743567606bc5",
       "version_major": 2,
       "version_minor": 0
      },
      "text/plain": [
       "RFBOutputContext()"
      ]
     },
     "metadata": {},
     "output_type": "display_data"
    },
    {
     "data": {
      "application/vnd.jupyter.widget-view+json": {
       "model_id": "e56b4bf788ca4870b7b2e789051ab6a7",
       "version_major": 2,
       "version_minor": 0
      },
      "text/plain": [
       "JupyterOutputContext(children=(JupyterWgpuCanvas(), IpywidgetToolBar(children=(Button(icon='expand-arrows-alt'…"
      ]
     },
     "execution_count": 77,
     "metadata": {},
     "output_type": "execute_result"
    }
   ],
   "source": [
    "iw = fpl.ImageWidget(u[::n_steps, 1].reshape(xdim, ydim, order=\"C\"))\n",
    "iw.show()"
   ]
  },
  {
   "cell_type": "code",
   "execution_count": null,
   "id": "24f07ae6-1d2d-4391-8e50-5b7afe0912e2",
   "metadata": {},
   "outputs": [],
   "source": []
  }
 ],
 "metadata": {
  "kernelspec": {
   "display_name": "Python 3 (ipykernel)",
   "language": "python",
   "name": "python3"
  },
  "language_info": {
   "codemirror_mode": {
    "name": "ipython",
    "version": 3
   },
   "file_extension": ".py",
   "mimetype": "text/x-python",
   "name": "python",
   "nbconvert_exporter": "python",
   "pygments_lexer": "ipython3",
   "version": "3.11.2"
  }
 },
 "nbformat": 4,
 "nbformat_minor": 5
}
